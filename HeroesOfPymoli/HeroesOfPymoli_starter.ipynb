{
 "cells": [
  {
   "cell_type": "markdown",
   "metadata": {},
   "source": [
    "### Note\n",
    "* Instructions have been included for each segment. You do not have to follow them exactly, but they are included to help you think through the steps."
   ]
  },
  {
   "cell_type": "code",
   "execution_count": 79,
   "metadata": {},
   "outputs": [
    {
     "output_type": "execute_result",
     "data": {
      "text/plain": [
       "   Purchase ID             SN  Age Gender  Item ID  \\\n",
       "0            0        Lisim78   20   Male      108   \n",
       "1            1    Lisovynya38   40   Male      143   \n",
       "2            2     Ithergue48   24   Male       92   \n",
       "3            3  Chamassasya86   24   Male      100   \n",
       "4            4      Iskosia90   23   Male      131   \n",
       "\n",
       "                                   Item Name  Price  \n",
       "0  Extraction, Quickblade Of Trembling Hands   3.53  \n",
       "1                          Frenzied Scimitar   1.56  \n",
       "2                               Final Critic   4.88  \n",
       "3                                Blindscythe   3.27  \n",
       "4                                       Fury   1.44  "
      ],
      "text/html": "<div>\n<style scoped>\n    .dataframe tbody tr th:only-of-type {\n        vertical-align: middle;\n    }\n\n    .dataframe tbody tr th {\n        vertical-align: top;\n    }\n\n    .dataframe thead th {\n        text-align: right;\n    }\n</style>\n<table border=\"1\" class=\"dataframe\">\n  <thead>\n    <tr style=\"text-align: right;\">\n      <th></th>\n      <th>Purchase ID</th>\n      <th>SN</th>\n      <th>Age</th>\n      <th>Gender</th>\n      <th>Item ID</th>\n      <th>Item Name</th>\n      <th>Price</th>\n    </tr>\n  </thead>\n  <tbody>\n    <tr>\n      <th>0</th>\n      <td>0</td>\n      <td>Lisim78</td>\n      <td>20</td>\n      <td>Male</td>\n      <td>108</td>\n      <td>Extraction, Quickblade Of Trembling Hands</td>\n      <td>3.53</td>\n    </tr>\n    <tr>\n      <th>1</th>\n      <td>1</td>\n      <td>Lisovynya38</td>\n      <td>40</td>\n      <td>Male</td>\n      <td>143</td>\n      <td>Frenzied Scimitar</td>\n      <td>1.56</td>\n    </tr>\n    <tr>\n      <th>2</th>\n      <td>2</td>\n      <td>Ithergue48</td>\n      <td>24</td>\n      <td>Male</td>\n      <td>92</td>\n      <td>Final Critic</td>\n      <td>4.88</td>\n    </tr>\n    <tr>\n      <th>3</th>\n      <td>3</td>\n      <td>Chamassasya86</td>\n      <td>24</td>\n      <td>Male</td>\n      <td>100</td>\n      <td>Blindscythe</td>\n      <td>3.27</td>\n    </tr>\n    <tr>\n      <th>4</th>\n      <td>4</td>\n      <td>Iskosia90</td>\n      <td>23</td>\n      <td>Male</td>\n      <td>131</td>\n      <td>Fury</td>\n      <td>1.44</td>\n    </tr>\n  </tbody>\n</table>\n</div>"
     },
     "metadata": {},
     "execution_count": 79
    }
   ],
   "source": [
    "# Dependencies and Setup\n",
    "import pandas as pd\n",
    "import os\n",
    "\n",
    "# File to Load (Remember to Change These)\n",
    "file_to_load = os.path.join(\"Resources\",\"purchase_data.csv\")\n",
    "\n",
    "\n",
    "# Read Purchasing File and store into Pandas data frame\n",
    "purchase_data_df = pd.read_csv(file_to_load)\n",
    "purchase_data_df.head()"
   ]
  },
  {
   "cell_type": "markdown",
   "metadata": {},
   "source": [
    "## Player Count"
   ]
  },
  {
   "cell_type": "markdown",
   "metadata": {},
   "source": [
    "* Display the total number of players\n"
   ]
  },
  {
   "cell_type": "code",
   "execution_count": 80,
   "metadata": {},
   "outputs": [
    {
     "output_type": "execute_result",
     "data": {
      "text/plain": [
       "Lisosia93       5\n",
       "Idastidru52     4\n",
       "Iral74          4\n",
       "Saistyphos30    3\n",
       "Silaera56       3\n",
       "               ..\n",
       "Saena89         1\n",
       "Hailaphos89     1\n",
       "Iskirra45       1\n",
       "Marirrasta50    1\n",
       "Yasrisu92       1\n",
       "Name: SN, Length: 576, dtype: int64"
      ]
     },
     "metadata": {},
     "execution_count": 80
    }
   ],
   "source": [
    "# Check to see if there are any users with multiple purchases, indeed there are\n",
    "purchase_data_df['SN'].value_counts()"
   ]
  },
  {
   "cell_type": "code",
   "execution_count": 81,
   "metadata": {},
   "outputs": [
    {
     "output_type": "execute_result",
     "data": {
      "text/plain": [
       "<pandas.io.formats.style.Styler at 0x7fb3bc6509e8>"
      ],
      "text/html": "<style  type=\"text/css\" >\n</style><table id=\"T_33cb25cc_0c38_11ec_be74_8c85900ce6cd\" ><thead>    <tr>        <th class=\"col_heading level0 col0\" >Total Players</th>    </tr></thead><tbody>\n                <tr>\n                                <td id=\"T_33cb25cc_0c38_11ec_be74_8c85900ce6cdrow0_col0\" class=\"data row0 col0\" >576</td>\n            </tr>\n    </tbody></table>"
     },
     "metadata": {},
     "execution_count": 81
    }
   ],
   "source": [
    "# length of list containing unique user names to get total users.\n",
    "total_players = purchase_data_df['SN'].nunique()\n",
    "\n",
    "total_players_df = pd.DataFrame({\n",
    "    'Total Players': [total_players]\n",
    "})\n",
    "# display total players without index number for cleaner output\n",
    "total_players_df.style.hide_index()\n"
   ]
  },
  {
   "cell_type": "markdown",
   "metadata": {},
   "source": [
    "## Purchasing Analysis (Total)"
   ]
  },
  {
   "cell_type": "markdown",
   "metadata": {},
   "source": [
    "* Run basic calculations to obtain number of unique items, average price, etc.\n",
    "\n",
    "\n",
    "* Create a summary data frame to hold the results\n",
    "\n",
    "\n",
    "* Optional: give the displayed data cleaner formatting\n",
    "\n",
    "\n",
    "* Display the summary data frame\n"
   ]
  },
  {
   "cell_type": "code",
   "execution_count": 82,
   "metadata": {},
   "outputs": [
    {
     "output_type": "execute_result",
     "data": {
      "text/plain": [
       "<pandas.io.formats.style.Styler at 0x7fb3bb3d4860>"
      ],
      "text/html": "<style  type=\"text/css\" >\n</style><table id=\"T_34c0871a_0c38_11ec_861a_8c85900ce6cd\" ><thead>    <tr>        <th class=\"col_heading level0 col0\" >Number of Unique Items</th>        <th class=\"col_heading level0 col1\" >Average Price</th>        <th class=\"col_heading level0 col2\" >Number of Purchase</th>        <th class=\"col_heading level0 col3\" >Total Revenue</th>    </tr></thead><tbody>\n                <tr>\n                                <td id=\"T_34c0871a_0c38_11ec_861a_8c85900ce6cdrow0_col0\" class=\"data row0 col0\" >179</td>\n                        <td id=\"T_34c0871a_0c38_11ec_861a_8c85900ce6cdrow0_col1\" class=\"data row0 col1\" >$3.05</td>\n                        <td id=\"T_34c0871a_0c38_11ec_861a_8c85900ce6cdrow0_col2\" class=\"data row0 col2\" >780</td>\n                        <td id=\"T_34c0871a_0c38_11ec_861a_8c85900ce6cdrow0_col3\" class=\"data row0 col3\" >$2,379.77</td>\n            </tr>\n    </tbody></table>"
     },
     "metadata": {},
     "execution_count": 82
    }
   ],
   "source": [
    "# Gather summary statistics\n",
    "unique_items = len(purchase_data_df['Item Name'].unique())\n",
    "avg_price = purchase_data_df['Price'].mean()\n",
    "total_purchases = purchase_data_df['Purchase ID'].count()\n",
    "total_revenue = purchase_data_df['Price'].sum()\n",
    "\n",
    "# Create summary table dataframe\n",
    "purchase_analysis_df = pd.DataFrame({\n",
    "    'Number of Unique Items': [unique_items],\n",
    "    'Average Price': [avg_price],\n",
    "    'Number of Purchase':[total_purchases],\n",
    "    'Total Revenue': [total_revenue]\n",
    "})\n",
    "\n",
    "# Format price and revenue data to .00 precision and include '$'.\n",
    "purchase_analysis_df['Average Price'] = purchase_analysis_df['Average Price'].map(\"${:.2f}\".format)\n",
    "purchase_analysis_df['Total Revenue'] = purchase_analysis_df['Total Revenue'].map(\"${:,.2f}\".format)\n",
    "\n",
    "# display table and hide index\n",
    "purchase_analysis_df.style.hide_index()"
   ]
  },
  {
   "cell_type": "markdown",
   "metadata": {},
   "source": [
    "## Gender Demographics"
   ]
  },
  {
   "cell_type": "markdown",
   "metadata": {},
   "source": [
    "* Percentage and Count of Male Players\n",
    "\n",
    "\n",
    "* Percentage and Count of Female Players\n",
    "\n",
    "\n",
    "* Percentage and Count of Other / Non-Disclosed\n",
    "\n",
    "\n"
   ]
  },
  {
   "cell_type": "code",
   "execution_count": 83,
   "metadata": {},
   "outputs": [
    {
     "output_type": "execute_result",
     "data": {
      "text/plain": [
       "                       Total_Count Percentage_of_Players\n",
       "Gender                                                  \n",
       "Female                          81                14.06%\n",
       "Male                           484                84.03%\n",
       "Other / Non-Disclosed           11                 1.91%"
      ],
      "text/html": "<div>\n<style scoped>\n    .dataframe tbody tr th:only-of-type {\n        vertical-align: middle;\n    }\n\n    .dataframe tbody tr th {\n        vertical-align: top;\n    }\n\n    .dataframe thead th {\n        text-align: right;\n    }\n</style>\n<table border=\"1\" class=\"dataframe\">\n  <thead>\n    <tr style=\"text-align: right;\">\n      <th></th>\n      <th>Total_Count</th>\n      <th>Percentage_of_Players</th>\n    </tr>\n    <tr>\n      <th>Gender</th>\n      <th></th>\n      <th></th>\n    </tr>\n  </thead>\n  <tbody>\n    <tr>\n      <th>Female</th>\n      <td>81</td>\n      <td>14.06%</td>\n    </tr>\n    <tr>\n      <th>Male</th>\n      <td>484</td>\n      <td>84.03%</td>\n    </tr>\n    <tr>\n      <th>Other / Non-Disclosed</th>\n      <td>11</td>\n      <td>1.91%</td>\n    </tr>\n  </tbody>\n</table>\n</div>"
     },
     "metadata": {},
     "execution_count": 83
    }
   ],
   "source": [
    "# Create gender groupby object\n",
    "gender_group = purchase_data_df.groupby('Gender')\n",
    "\n",
    "# Gather total unique male, female, and Other/Non-disclosed entries\n",
    "gender_df = gender_group.agg(Total_Count = ('SN', 'nunique'))\n",
    "\n",
    "# Calcuate the percentage of male, female, and Other/Non-disclosed compared to total players\n",
    "gender_df['Percentage_of_Players'] = (gender_df['Total_Count']/purchase_data_df['SN'].nunique())*100\n",
    "\n",
    "# format percentage of players column and set indexes to 'Gender' column\n",
    "gender_df['Percentage_of_Players'] = gender_df['Percentage_of_Players'].map(\"{:.2f}%\".format)\n",
    "\n",
    "gender_df\n"
   ]
  },
  {
   "source": [
    "## Insight 1\n",
    "\n",
    "* Heroes of Pymoli player base is prodominantly male gendered with 84.03% of players registering as Male. This is 25% more skewed towards male players than the overall percentage of male gamers in the United States (59% in 2020, https://www.statista.com/statistics/232383/gender-split-of-us-computer-and-video-gamers/)"
   ],
   "cell_type": "markdown",
   "metadata": {}
  },
  {
   "cell_type": "markdown",
   "metadata": {},
   "source": [
    "\n",
    "## Purchasing Analysis (Gender)"
   ]
  },
  {
   "cell_type": "markdown",
   "metadata": {},
   "source": [
    "* Run basic calculations to obtain purchase count, avg. purchase price, avg. purchase total per person etc. by gender\n",
    "\n",
    "\n",
    "\n",
    "\n",
    "* Create a summary data frame to hold the results\n",
    "\n",
    "\n",
    "* Optional: give the displayed data cleaner formatting\n",
    "\n",
    "\n",
    "* Display the summary data frame"
   ]
  },
  {
   "cell_type": "code",
   "execution_count": 84,
   "metadata": {},
   "outputs": [
    {
     "output_type": "execute_result",
     "data": {
      "text/plain": [
       "                       Total_Players  Purchase_Count Average_Purchase_Price  \\\n",
       "Gender                                                                        \n",
       "Female                            81             113                  $3.20   \n",
       "Male                             484             652                  $3.02   \n",
       "Other / Non-Disclosed             11              15                  $3.35   \n",
       "\n",
       "                      Total_Purchase_Value Avg_Purchase_Per_Person  \n",
       "Gender                                                              \n",
       "Female                             $361.94                   $4.47  \n",
       "Male                             $1,967.64                   $4.07  \n",
       "Other / Non-Disclosed               $50.19                   $4.56  "
      ],
      "text/html": "<div>\n<style scoped>\n    .dataframe tbody tr th:only-of-type {\n        vertical-align: middle;\n    }\n\n    .dataframe tbody tr th {\n        vertical-align: top;\n    }\n\n    .dataframe thead th {\n        text-align: right;\n    }\n</style>\n<table border=\"1\" class=\"dataframe\">\n  <thead>\n    <tr style=\"text-align: right;\">\n      <th></th>\n      <th>Total_Players</th>\n      <th>Purchase_Count</th>\n      <th>Average_Purchase_Price</th>\n      <th>Total_Purchase_Value</th>\n      <th>Avg_Purchase_Per_Person</th>\n    </tr>\n    <tr>\n      <th>Gender</th>\n      <th></th>\n      <th></th>\n      <th></th>\n      <th></th>\n      <th></th>\n    </tr>\n  </thead>\n  <tbody>\n    <tr>\n      <th>Female</th>\n      <td>81</td>\n      <td>113</td>\n      <td>$3.20</td>\n      <td>$361.94</td>\n      <td>$4.47</td>\n    </tr>\n    <tr>\n      <th>Male</th>\n      <td>484</td>\n      <td>652</td>\n      <td>$3.02</td>\n      <td>$1,967.64</td>\n      <td>$4.07</td>\n    </tr>\n    <tr>\n      <th>Other / Non-Disclosed</th>\n      <td>11</td>\n      <td>15</td>\n      <td>$3.35</td>\n      <td>$50.19</td>\n      <td>$4.56</td>\n    </tr>\n  </tbody>\n</table>\n</div>"
     },
     "metadata": {},
     "execution_count": 84
    }
   ],
   "source": [
    "# create groupby object that groups data by gender\n",
    "purchasing_gender_group = purchase_data_df.groupby('Gender')\n",
    "\n",
    "# Use aggregate function to create new dataframe with the necessary functions applied to the respective columns\n",
    "# Gets count of the Purchace ID column, number of unique users in the SN column, mean value of the Price column, and total sum of the Price column\n",
    "purchasing_gender_df = purchasing_gender_group.agg(Total_Players = ('SN', 'nunique'), Purchase_Count = ('Purchase ID', 'count'), Average_Purchase_Price = ('Price', 'mean'), Total_Purchase_Value = ('Price', 'sum'))\n",
    "\n",
    "# Gets average purchase per person by dividing total purchase value by the total players\n",
    "purchasing_gender_df['Avg_Purchase_Per_Person'] = purchasing_gender_df['Total_Purchase_Value']/df['Total_Players']\n",
    "\n",
    "# Reformat money columns to include $ and 0.00 precision\n",
    "purchasing_gender_df['Average_Purchase_Price'] = purchasing_gender_df['Average_Purchase_Price'].map(\"${:.2f}\".format)\n",
    "purchasing_gender_df['Total_Purchase_Value'] = purchasing_gender_df['Total_Purchase_Value'].map(\"${:,.2f}\".format)\n",
    "purchasing_gender_df['Avg_Purchase_Per_Person'] = purchasing_gender_df['Avg_Purchase_Per_Person'].map(\"${:.2f}\".format)\n",
    "\n",
    "purchasing_gender_df\n"
   ]
  },
  {
   "source": [
    "## Insight 2\n",
    "\n",
    "* In agreement with the above statistic showing males account for 84% of all players, males account for greater than 80% of all total purchase value. However, the average purchase price and average total purchase per person is the lowest for the male gender. This indicates that individual males, on average, spend less money on the game than the other genders. Leading marketing campaigns to increase the number of other gendered people and diversifying the player base may lead to more total sales. "
   ],
   "cell_type": "markdown",
   "metadata": {}
  },
  {
   "cell_type": "markdown",
   "metadata": {},
   "source": [
    "## Age Demographics"
   ]
  },
  {
   "cell_type": "markdown",
   "metadata": {},
   "source": [
    "* Establish bins for ages\n",
    "\n",
    "\n",
    "* Categorize the existing players using the age bins. Hint: use pd.cut()\n",
    "\n",
    "\n",
    "* Calculate the numbers and percentages by age group\n",
    "\n",
    "\n",
    "* Create a summary data frame to hold the results\n",
    "\n",
    "\n",
    "* Optional: round the percentage column to two decimal points\n",
    "\n",
    "* Display Age Demographics Table\n"
   ]
  },
  {
   "cell_type": "code",
   "execution_count": 85,
   "metadata": {},
   "outputs": [
    {
     "output_type": "execute_result",
     "data": {
      "text/plain": [
       "            Total Count Percentage of Players\n",
       "Age Groups                                   \n",
       "<10                  17                 2.95%\n",
       "10-14                22                 3.82%\n",
       "15-19               107                18.58%\n",
       "20-24               258                44.79%\n",
       "25-29                77                13.37%\n",
       "30-34                52                 9.03%\n",
       "35-39                31                 5.38%\n",
       "40+                  12                 2.08%"
      ],
      "text/html": "<div>\n<style scoped>\n    .dataframe tbody tr th:only-of-type {\n        vertical-align: middle;\n    }\n\n    .dataframe tbody tr th {\n        vertical-align: top;\n    }\n\n    .dataframe thead th {\n        text-align: right;\n    }\n</style>\n<table border=\"1\" class=\"dataframe\">\n  <thead>\n    <tr style=\"text-align: right;\">\n      <th></th>\n      <th>Total Count</th>\n      <th>Percentage of Players</th>\n    </tr>\n    <tr>\n      <th>Age Groups</th>\n      <th></th>\n      <th></th>\n    </tr>\n  </thead>\n  <tbody>\n    <tr>\n      <th>&lt;10</th>\n      <td>17</td>\n      <td>2.95%</td>\n    </tr>\n    <tr>\n      <th>10-14</th>\n      <td>22</td>\n      <td>3.82%</td>\n    </tr>\n    <tr>\n      <th>15-19</th>\n      <td>107</td>\n      <td>18.58%</td>\n    </tr>\n    <tr>\n      <th>20-24</th>\n      <td>258</td>\n      <td>44.79%</td>\n    </tr>\n    <tr>\n      <th>25-29</th>\n      <td>77</td>\n      <td>13.37%</td>\n    </tr>\n    <tr>\n      <th>30-34</th>\n      <td>52</td>\n      <td>9.03%</td>\n    </tr>\n    <tr>\n      <th>35-39</th>\n      <td>31</td>\n      <td>5.38%</td>\n    </tr>\n    <tr>\n      <th>40+</th>\n      <td>12</td>\n      <td>2.08%</td>\n    </tr>\n  </tbody>\n</table>\n</div>"
     },
     "metadata": {},
     "execution_count": 85
    }
   ],
   "source": [
    "# create age bins and assign bin names\n",
    "age_bins = [0,9.9,14.9,19.9,24.9,29.9,34.9,39.9,200]\n",
    "bin_names = ['<10', '10-14', '15-19', '20-24', '25-29', '30-34', '35-39', '40+']\n",
    "\n",
    "# create Age Groups column that bins the age of each purchase\n",
    "purchase_data_df[\"Age Groups\"] = pd.cut(purchase_data_df[\"Age\"], age_bins, labels=bin_names, include_lowest=True)\n",
    "\n",
    "# Drop all duplicate SNs to get only unique players\n",
    "purchase_data_no_dups_df = purchase_data_df.drop_duplicates(subset=['SN'])\n",
    "\n",
    "# create group object that is data sorted by Age Group\n",
    "age_group = purchase_data_no_dups_df.groupby(['Age Groups'])\n",
    "\n",
    "# create empty age demographic summary table dataframe\n",
    "age_sum_table_df = pd.DataFrame({})\n",
    "\n",
    "# append total count and percentage of players for each age group (uses total_players from beginning of notebook)\n",
    "age_sum_table_df['Total Count'] = age_group['Age Groups'].count()\n",
    "age_sum_table_df['Percentage of Players'] = (age_sum_table_df['Total Count']/total_players)*100\n",
    "\n",
    "# format table for % and rounding to .00 precision.\n",
    "age_sum_table_df['Percentage of Players'] = age_sum_table_df['Percentage of Players'].map(\"{:.2f}%\".format)\n",
    "\n",
    "\n",
    "age_sum_table_df"
   ]
  },
  {
   "source": [],
   "cell_type": "markdown",
   "metadata": {}
  },
  {
   "cell_type": "markdown",
   "metadata": {},
   "source": [
    "## Purchasing Analysis (Age)"
   ]
  },
  {
   "cell_type": "markdown",
   "metadata": {},
   "source": [
    "* Bin the purchase_data data frame by age\n",
    "\n",
    "\n",
    "* Run basic calculations to obtain purchase count, avg. purchase price, avg. purchase total per person etc. in the table below\n",
    "\n",
    "\n",
    "* Create a summary data frame to hold the results\n",
    "\n",
    "\n",
    "* Optional: give the displayed data cleaner formatting\n",
    "\n",
    "\n",
    "* Display the summary data frame"
   ]
  },
  {
   "cell_type": "code",
   "execution_count": 87,
   "metadata": {},
   "outputs": [
    {
     "output_type": "execute_result",
     "data": {
      "text/plain": [
       "            Purchase_Count  Total_Players Average_Purchase_Price  \\\n",
       "Age Groups                                                         \n",
       "<10                     23             17                  $3.35   \n",
       "10-14                   28             22                  $2.96   \n",
       "15-19                  136            107                  $3.04   \n",
       "20-24                  365            258                  $3.05   \n",
       "25-29                  101             77                  $2.90   \n",
       "30-34                   73             52                  $2.93   \n",
       "35-39                   41             31                  $3.60   \n",
       "40+                     13             12                  $2.94   \n",
       "\n",
       "           Total_Purchase_Value Avg_Total_Purchase_per_Person  \n",
       "Age Groups                                                     \n",
       "<10                      $77.13                         $4.54  \n",
       "10-14                    $82.78                         $3.76  \n",
       "15-19                   $412.89                         $3.86  \n",
       "20-24                 $1,114.06                         $4.32  \n",
       "25-29                   $293.00                         $3.81  \n",
       "30-34                   $214.00                         $4.12  \n",
       "35-39                   $147.67                         $4.76  \n",
       "40+                      $38.24                         $3.19  "
      ],
      "text/html": "<div>\n<style scoped>\n    .dataframe tbody tr th:only-of-type {\n        vertical-align: middle;\n    }\n\n    .dataframe tbody tr th {\n        vertical-align: top;\n    }\n\n    .dataframe thead th {\n        text-align: right;\n    }\n</style>\n<table border=\"1\" class=\"dataframe\">\n  <thead>\n    <tr style=\"text-align: right;\">\n      <th></th>\n      <th>Purchase_Count</th>\n      <th>Total_Players</th>\n      <th>Average_Purchase_Price</th>\n      <th>Total_Purchase_Value</th>\n      <th>Avg_Total_Purchase_per_Person</th>\n    </tr>\n    <tr>\n      <th>Age Groups</th>\n      <th></th>\n      <th></th>\n      <th></th>\n      <th></th>\n      <th></th>\n    </tr>\n  </thead>\n  <tbody>\n    <tr>\n      <th>&lt;10</th>\n      <td>23</td>\n      <td>17</td>\n      <td>$3.35</td>\n      <td>$77.13</td>\n      <td>$4.54</td>\n    </tr>\n    <tr>\n      <th>10-14</th>\n      <td>28</td>\n      <td>22</td>\n      <td>$2.96</td>\n      <td>$82.78</td>\n      <td>$3.76</td>\n    </tr>\n    <tr>\n      <th>15-19</th>\n      <td>136</td>\n      <td>107</td>\n      <td>$3.04</td>\n      <td>$412.89</td>\n      <td>$3.86</td>\n    </tr>\n    <tr>\n      <th>20-24</th>\n      <td>365</td>\n      <td>258</td>\n      <td>$3.05</td>\n      <td>$1,114.06</td>\n      <td>$4.32</td>\n    </tr>\n    <tr>\n      <th>25-29</th>\n      <td>101</td>\n      <td>77</td>\n      <td>$2.90</td>\n      <td>$293.00</td>\n      <td>$3.81</td>\n    </tr>\n    <tr>\n      <th>30-34</th>\n      <td>73</td>\n      <td>52</td>\n      <td>$2.93</td>\n      <td>$214.00</td>\n      <td>$4.12</td>\n    </tr>\n    <tr>\n      <th>35-39</th>\n      <td>41</td>\n      <td>31</td>\n      <td>$3.60</td>\n      <td>$147.67</td>\n      <td>$4.76</td>\n    </tr>\n    <tr>\n      <th>40+</th>\n      <td>13</td>\n      <td>12</td>\n      <td>$2.94</td>\n      <td>$38.24</td>\n      <td>$3.19</td>\n    </tr>\n  </tbody>\n</table>\n</div>"
     },
     "metadata": {},
     "execution_count": 87
    }
   ],
   "source": [
    "# Create new groupby object sorted by the 'Age Groups'\n",
    "age_purchase_group = purchase_data_df.groupby(['Age Groups'])\n",
    "\n",
    "# Create DataFrame summary table with purchase count, avg purchase price, total purchase value, and unique players per age group\n",
    "age_purchase_df = age_purchase_group.agg(Purchase_Count = ('Purchase ID', 'count'), Total_Players = ('SN', 'nunique'), Average_Purchase_Price = ('Price', 'mean'), Total_Purchase_Value = ('Price', 'sum'))\n",
    "\n",
    "# append avg total purchase per unique person by dividing total purchase value by total unique players\n",
    "age_purchase_df['Avg_Total_Purchase_per_Person'] = age_purchase_df['Total_Purchase_Value']/age_purchase_df['Total_Players']\n",
    "\n",
    "# format table with $ and 0.00 precision\n",
    "age_purchase_df['Avg_Total_Purchase_per_Person'] = age_purchase_df['Avg_Total_Purchase_per_Person'].map(\"${:.2f}\".format)\n",
    "age_purchase_df['Average_Purchase_Price'] = age_purchase_df['Average_Purchase_Price'].map(\"${:,.2f}\".format)\n",
    "age_purchase_df['Total_Purchase_Value'] = age_purchase_df['Total_Purchase_Value'].map(\"${:,.2f}\".format)\n",
    "\n",
    "age_purchase_df"
   ]
  },
  {
   "source": [
    "## Insight 3\n",
    "\n",
    "* Players aged 20-24 account for the largest percentage of the player base (44%) and accordingly they account for the highly total purchase value."
   ],
   "cell_type": "markdown",
   "metadata": {}
  },
  {
   "cell_type": "markdown",
   "metadata": {},
   "source": [
    "## Top Spenders"
   ]
  },
  {
   "cell_type": "markdown",
   "metadata": {},
   "source": [
    "* Run basic calculations to obtain the results in the table below\n",
    "\n",
    "\n",
    "* Create a summary data frame to hold the results\n",
    "\n",
    "\n",
    "* Sort the total purchase value column in descending order\n",
    "\n",
    "\n",
    "* Optional: give the displayed data cleaner formatting\n",
    "\n",
    "\n",
    "* Display a preview of the summary data frame\n",
    "\n"
   ]
  },
  {
   "cell_type": "code",
   "execution_count": 88,
   "metadata": {},
   "outputs": [
    {
     "output_type": "execute_result",
     "data": {
      "text/plain": [
       "             Purchase_Count Average_Purchase_Price Total_Purchase_Value\n",
       "SN                                                                     \n",
       "Lisosia93                 5                  $3.79               $18.96\n",
       "Idastidru52               4                  $3.86               $15.45\n",
       "Chamjask73                3                  $4.61               $13.83\n",
       "Iral74                    4                  $3.40               $13.62\n",
       "Iskadarya95               3                  $4.37               $13.10"
      ],
      "text/html": "<div>\n<style scoped>\n    .dataframe tbody tr th:only-of-type {\n        vertical-align: middle;\n    }\n\n    .dataframe tbody tr th {\n        vertical-align: top;\n    }\n\n    .dataframe thead th {\n        text-align: right;\n    }\n</style>\n<table border=\"1\" class=\"dataframe\">\n  <thead>\n    <tr style=\"text-align: right;\">\n      <th></th>\n      <th>Purchase_Count</th>\n      <th>Average_Purchase_Price</th>\n      <th>Total_Purchase_Value</th>\n    </tr>\n    <tr>\n      <th>SN</th>\n      <th></th>\n      <th></th>\n      <th></th>\n    </tr>\n  </thead>\n  <tbody>\n    <tr>\n      <th>Lisosia93</th>\n      <td>5</td>\n      <td>$3.79</td>\n      <td>$18.96</td>\n    </tr>\n    <tr>\n      <th>Idastidru52</th>\n      <td>4</td>\n      <td>$3.86</td>\n      <td>$15.45</td>\n    </tr>\n    <tr>\n      <th>Chamjask73</th>\n      <td>3</td>\n      <td>$4.61</td>\n      <td>$13.83</td>\n    </tr>\n    <tr>\n      <th>Iral74</th>\n      <td>4</td>\n      <td>$3.40</td>\n      <td>$13.62</td>\n    </tr>\n    <tr>\n      <th>Iskadarya95</th>\n      <td>3</td>\n      <td>$4.37</td>\n      <td>$13.10</td>\n    </tr>\n  </tbody>\n</table>\n</div>"
     },
     "metadata": {},
     "execution_count": 88
    }
   ],
   "source": [
    "# create groupby object sorted by the 'SN'\n",
    "sn_group = purchase_data_df.groupby(['SN'])\n",
    "\n",
    "# create summary table with purchase count, average purchase price, and total purchase price per user (SN)\n",
    "sn_sum_table = sn_group.agg(Purchase_Count = ('Purchase ID', 'count'), Average_Purchase_Price = ('Price', 'mean'), Total_Purchase_Value = ('Price', 'sum'))\n",
    "\n",
    "# sort values in descending order by the total purchase value\n",
    "sn_sum_table = sn_sum_table.sort_values(by='Total_Purchase_Value', ascending=False)\n",
    "\n",
    "# format average purchase price and total purchase value columns to $ and 0.00 precision\n",
    "sn_sum_table['Total_Purchase_Value'] = sn_sum_table['Total_Purchase_Value'].map(\"${:.2f}\".format)\n",
    "sn_sum_table['Average_Purchase_Price'] = sn_sum_table['Average_Purchase_Price'].map(\"${:.2f}\".format)\n",
    "\n",
    "# display dataframe with only the first 5 rows.\n",
    "sn_sum_table.head()"
   ]
  },
  {
   "cell_type": "markdown",
   "metadata": {},
   "source": [
    "## Most Popular Items"
   ]
  },
  {
   "cell_type": "markdown",
   "metadata": {},
   "source": [
    "* Retrieve the Item ID, Item Name, and Item Price columns\n",
    "\n",
    "\n",
    "* Group by Item ID and Item Name. Perform calculations to obtain purchase count, average item price, and total purchase value\n",
    "\n",
    "\n",
    "* Create a summary data frame to hold the results\n",
    "\n",
    "\n",
    "* Sort the purchase count column in descending order\n",
    "\n",
    "\n",
    "* Optional: give the displayed data cleaner formatting\n",
    "\n",
    "\n",
    "* Display a preview of the summary data frame\n",
    "\n"
   ]
  },
  {
   "cell_type": "code",
   "execution_count": 89,
   "metadata": {},
   "outputs": [
    {
     "output_type": "execute_result",
     "data": {
      "text/plain": [
       "                                                      Purchase_Count  \\\n",
       "Item ID Item Name                                                      \n",
       "92      Final Critic                                              13   \n",
       "178     Oathbreaker, Last Hope of the Breaking Storm              12   \n",
       "145     Fiery Glass Crusader                                       9   \n",
       "132     Persuasion                                                 9   \n",
       "108     Extraction, Quickblade Of Trembling Hands                  9   \n",
       "\n",
       "                                                     Item_Price  \\\n",
       "Item ID Item Name                                                 \n",
       "92      Final Critic                                      $4.61   \n",
       "178     Oathbreaker, Last Hope of the Breaking Storm      $4.23   \n",
       "145     Fiery Glass Crusader                              $4.58   \n",
       "132     Persuasion                                        $3.22   \n",
       "108     Extraction, Quickblade Of Trembling Hands         $3.53   \n",
       "\n",
       "                                                     Total_Purchase_Value  \n",
       "Item ID Item Name                                                          \n",
       "92      Final Critic                                               $59.99  \n",
       "178     Oathbreaker, Last Hope of the Breaking Storm               $50.76  \n",
       "145     Fiery Glass Crusader                                       $41.22  \n",
       "132     Persuasion                                                 $28.99  \n",
       "108     Extraction, Quickblade Of Trembling Hands                  $31.77  "
      ],
      "text/html": "<div>\n<style scoped>\n    .dataframe tbody tr th:only-of-type {\n        vertical-align: middle;\n    }\n\n    .dataframe tbody tr th {\n        vertical-align: top;\n    }\n\n    .dataframe thead th {\n        text-align: right;\n    }\n</style>\n<table border=\"1\" class=\"dataframe\">\n  <thead>\n    <tr style=\"text-align: right;\">\n      <th></th>\n      <th></th>\n      <th>Purchase_Count</th>\n      <th>Item_Price</th>\n      <th>Total_Purchase_Value</th>\n    </tr>\n    <tr>\n      <th>Item ID</th>\n      <th>Item Name</th>\n      <th></th>\n      <th></th>\n      <th></th>\n    </tr>\n  </thead>\n  <tbody>\n    <tr>\n      <th>92</th>\n      <th>Final Critic</th>\n      <td>13</td>\n      <td>$4.61</td>\n      <td>$59.99</td>\n    </tr>\n    <tr>\n      <th>178</th>\n      <th>Oathbreaker, Last Hope of the Breaking Storm</th>\n      <td>12</td>\n      <td>$4.23</td>\n      <td>$50.76</td>\n    </tr>\n    <tr>\n      <th>145</th>\n      <th>Fiery Glass Crusader</th>\n      <td>9</td>\n      <td>$4.58</td>\n      <td>$41.22</td>\n    </tr>\n    <tr>\n      <th>132</th>\n      <th>Persuasion</th>\n      <td>9</td>\n      <td>$3.22</td>\n      <td>$28.99</td>\n    </tr>\n    <tr>\n      <th>108</th>\n      <th>Extraction, Quickblade Of Trembling Hands</th>\n      <td>9</td>\n      <td>$3.53</td>\n      <td>$31.77</td>\n    </tr>\n  </tbody>\n</table>\n</div>"
     },
     "metadata": {},
     "execution_count": 89
    }
   ],
   "source": [
    "# filter purchase data to Item Id, Item name, and price only. This step is unneccesary in the current implimentation\n",
    "pop_items_df = purchase_data_df[['Item ID', 'Item Name', 'Price']]\n",
    "\n",
    "# create popular items group sorted by the Item Id and the Item Name\n",
    "pop_items_group = pop_items_df.groupby(['Item ID', 'Item Name'])\n",
    "\n",
    "# create summary table with number of purchases per item, item price, and total purchase value\n",
    "pop_items_sum_df = pop_items_group.agg(Purchase_Count = ('Item ID', 'count'), Item_Price = ('Price', 'mean'), Total_Purchase_Value = ('Price', 'sum'))\n",
    "\n",
    "# sort popular items by the purchase count in descending order\n",
    "pop_items_sum_df = pop_items_sum_df.sort_values(by='Purchase_Count', ascending=False)\n",
    "\n",
    "# format item price and total purchase value to include $ and 0.00 precision\n",
    "pop_items_sum_df['Total_Purchase_Value'] = pop_items_sum_df['Total_Purchase_Value'].map(\"${:.2f}\".format)\n",
    "pop_items_sum_df['Item_Price'] = pop_items_sum_df['Item_Price'].map(\"${:.2f}\".format)\n",
    "\n",
    "# display top 5 items\n",
    "pop_items_sum_df.head()"
   ]
  },
  {
   "cell_type": "markdown",
   "metadata": {},
   "source": [
    "## Most Profitable Items"
   ]
  },
  {
   "cell_type": "markdown",
   "metadata": {},
   "source": [
    "* Sort the above table by total purchase value in descending order\n",
    "\n",
    "\n",
    "* Optional: give the displayed data cleaner formatting\n",
    "\n",
    "\n",
    "* Display a preview of the data frame\n",
    "\n"
   ]
  },
  {
   "cell_type": "code",
   "execution_count": 90,
   "metadata": {},
   "outputs": [
    {
     "output_type": "execute_result",
     "data": {
      "text/plain": [
       "                                                      Purchase_Count  \\\n",
       "Item ID Item Name                                                      \n",
       "92      Final Critic                                              13   \n",
       "178     Oathbreaker, Last Hope of the Breaking Storm              12   \n",
       "82      Nirvana                                                    9   \n",
       "145     Fiery Glass Crusader                                       9   \n",
       "103     Singed Scalpel                                             8   \n",
       "\n",
       "                                                     Item_Price  \\\n",
       "Item ID Item Name                                                 \n",
       "92      Final Critic                                      $4.61   \n",
       "178     Oathbreaker, Last Hope of the Breaking Storm      $4.23   \n",
       "82      Nirvana                                           $4.90   \n",
       "145     Fiery Glass Crusader                              $4.58   \n",
       "103     Singed Scalpel                                    $4.35   \n",
       "\n",
       "                                                     Total_Purchase_Value  \n",
       "Item ID Item Name                                                          \n",
       "92      Final Critic                                               $59.99  \n",
       "178     Oathbreaker, Last Hope of the Breaking Storm               $50.76  \n",
       "82      Nirvana                                                    $44.10  \n",
       "145     Fiery Glass Crusader                                       $41.22  \n",
       "103     Singed Scalpel                                             $34.80  "
      ],
      "text/html": "<div>\n<style scoped>\n    .dataframe tbody tr th:only-of-type {\n        vertical-align: middle;\n    }\n\n    .dataframe tbody tr th {\n        vertical-align: top;\n    }\n\n    .dataframe thead th {\n        text-align: right;\n    }\n</style>\n<table border=\"1\" class=\"dataframe\">\n  <thead>\n    <tr style=\"text-align: right;\">\n      <th></th>\n      <th></th>\n      <th>Purchase_Count</th>\n      <th>Item_Price</th>\n      <th>Total_Purchase_Value</th>\n    </tr>\n    <tr>\n      <th>Item ID</th>\n      <th>Item Name</th>\n      <th></th>\n      <th></th>\n      <th></th>\n    </tr>\n  </thead>\n  <tbody>\n    <tr>\n      <th>92</th>\n      <th>Final Critic</th>\n      <td>13</td>\n      <td>$4.61</td>\n      <td>$59.99</td>\n    </tr>\n    <tr>\n      <th>178</th>\n      <th>Oathbreaker, Last Hope of the Breaking Storm</th>\n      <td>12</td>\n      <td>$4.23</td>\n      <td>$50.76</td>\n    </tr>\n    <tr>\n      <th>82</th>\n      <th>Nirvana</th>\n      <td>9</td>\n      <td>$4.90</td>\n      <td>$44.10</td>\n    </tr>\n    <tr>\n      <th>145</th>\n      <th>Fiery Glass Crusader</th>\n      <td>9</td>\n      <td>$4.58</td>\n      <td>$41.22</td>\n    </tr>\n    <tr>\n      <th>103</th>\n      <th>Singed Scalpel</th>\n      <td>8</td>\n      <td>$4.35</td>\n      <td>$34.80</td>\n    </tr>\n  </tbody>\n</table>\n</div>"
     },
     "metadata": {},
     "execution_count": 90
    }
   ],
   "source": [
    "# remove '$' formatting from Total Puchase value so it can be converted back to float value to be sorted\n",
    "pop_items_sum_df['Total_Purchase_Value'] = pop_items_sum_df['Total_Purchase_Value'].map(lambda x: x.replace('$', '')).astype(float)\n",
    "\n",
    "# sort table by total purchase value in descending order\n",
    "pop_items_sum_df = pop_items_sum_df.sort_values(by='Total_Purchase_Value', ascending=False)\n",
    "\n",
    "# reformat total purchase value to include $ and 0.00 precision\n",
    "pop_items_sum_df['Total_Purchase_Value'] = pop_items_sum_df['Total_Purchase_Value'].map(\"${:.2f}\".format)\n",
    "\n",
    "# display top 5 items.\n",
    "pop_items_sum_df.head()"
   ]
  },
  {
   "source": [
    "## Insight 4\n",
    "\n",
    "* The highest grossing items all have high item prices nearing the most expensive item ($4.99). One may think that lower priced items might sell in higher quantities, however this table and the previous table indicate otherwise.\n",
    "\n",
    "* These high priced items are driving sales and should be pushed to gamers whenever possible."
   ],
   "cell_type": "markdown",
   "metadata": {}
  },
  {
   "cell_type": "code",
   "execution_count": null,
   "metadata": {},
   "outputs": [],
   "source": []
  }
 ],
 "metadata": {
  "anaconda-cloud": {},
  "kernel_info": {
   "name": "python3"
  },
  "kernelspec": {
   "name": "python3",
   "display_name": "Python 3.6.10 64-bit ('PythonData': conda)"
  },
  "language_info": {
   "codemirror_mode": {
    "name": "ipython",
    "version": 3
   },
   "file_extension": ".py",
   "mimetype": "text/x-python",
   "name": "python",
   "nbconvert_exporter": "python",
   "pygments_lexer": "ipython3",
   "version": "3.6.10"
  },
  "latex_envs": {
   "LaTeX_envs_menu_present": true,
   "autoclose": false,
   "autocomplete": true,
   "bibliofile": "biblio.bib",
   "cite_by": "apalike",
   "current_citInitial": 1,
   "eqLabelWithNumbers": true,
   "eqNumInitial": 1,
   "hotkeys": {
    "equation": "Ctrl-E",
    "itemize": "Ctrl-I"
   },
   "labels_anchors": false,
   "latex_user_defs": false,
   "report_style_numbering": false,
   "user_envs_cfg": false
  },
  "nteract": {
   "version": "0.2.0"
  },
  "interpreter": {
   "hash": "1e67691bc7e9c64b6dc160199b6da1a1c108a868c79186766a1263198f3426e9"
  }
 },
 "nbformat": 4,
 "nbformat_minor": 2
}